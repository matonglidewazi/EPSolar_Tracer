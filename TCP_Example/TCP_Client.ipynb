{
 "cells": [
  {
   "cell_type": "code",
   "execution_count": 4,
   "metadata": {},
   "outputs": [
    {
     "name": "stdout",
     "output_type": "stream",
     "text": [
      "received data: b'Hello, World!'\n"
     ]
    }
   ],
   "source": [
    "import socket\n",
    "\n",
    "\n",
    "TCP_IP = '127.0.0.1'\n",
    "TCP_PORT = 5005\n",
    "BUFFER_SIZE = 1024\n",
    "MESSAGE = b\"Hello, World!\"\n",
    "\n",
    "s = socket.socket(socket.AF_INET, socket.SOCK_STREAM)\n",
    "s.connect((TCP_IP, TCP_PORT))\n",
    "s.send(MESSAGE)\n",
    "data = s.recv(BUFFER_SIZE)\n",
    "s.close()\n",
    "\n",
    "print (\"received data:\", data)"
   ]
  },
  {
   "cell_type": "code",
   "execution_count": null,
   "metadata": {},
   "outputs": [],
   "source": []
  }
 ],
 "metadata": {
  "kernelspec": {
   "display_name": "machine learning",
   "language": "python",
   "name": "ml"
  },
  "language_info": {
   "codemirror_mode": {
    "name": "ipython",
    "version": 3
   },
   "file_extension": ".py",
   "mimetype": "text/x-python",
   "name": "python",
   "nbconvert_exporter": "python",
   "pygments_lexer": "ipython3",
   "version": "3.6.8"
  }
 },
 "nbformat": 4,
 "nbformat_minor": 2
}
